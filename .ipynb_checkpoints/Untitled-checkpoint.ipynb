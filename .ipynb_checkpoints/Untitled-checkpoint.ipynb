{
 "cells": [
  {
   "cell_type": "markdown",
   "metadata": {},
   "source": [
    "#code for the original water-filling algorithm"
   ]
  },
  {
   "cell_type": "markdown",
   "metadata": {},
   "source": [
    "##read data"
   ]
  },
  {
   "cell_type": "code",
   "execution_count": 3,
   "metadata": {
    "collapsed": false
   },
   "outputs": [],
   "source": [
    "import time\n",
    "f=file('data.txt','r')\n",
    "f3=file('res_fast.txt','a')\n",
    "time1=time.time()\n",
    "n,m=f.readline().split()\n",
    "n=int(n)\n",
    "m=int(m)\n",
    "a=[]\n",
    "g={}\n",
    "conn=[]\n",
    "for i in range(n):\n",
    "    conn.append([])\n",
    "for i in range(m):\n",
    "    x,y=f.readline().split()\n",
    "    a.append((int(x),int(y)))\n",
    "    conn[int(x)].append(int(y))\n",
    "    conn[int(y)].append(int(x))\n",
    "    g[x,y]=1\n",
    "f.close()"
   ]
  },
  {
   "cell_type": "markdown",
   "metadata": {},
   "source": [
    "##get max matching"
   ]
  },
  {
   "cell_type": "code",
   "execution_count": 5,
   "metadata": {
    "collapsed": false
   },
   "outputs": [],
   "source": [
    "import os\n",
    "os.system(\"./code2run\")\n",
    "f2=file(\"divide.txt\",'r')\n",
    "T=int(f2.readline())\n",
    "match={}\n",
    "for i in range(T/2):\n",
    "    x,y=f2.readline().split()\n",
    "    match[int(x)]=int(y)\n",
    "    match[int(y)]=int(x)\n",
    "f2.close()"
   ]
  },
  {
   "cell_type": "markdown",
   "metadata": {},
   "source": [
    "##divide into E,M,C"
   ]
  },
  {
   "cell_type": "code",
   "execution_count": 6,
   "metadata": {
    "collapsed": true
   },
   "outputs": [],
   "source": [
    "E={}\n",
    "M={}\n",
    "C={}\n",
    "used=[]\n",
    "for t in range(n):\n",
    "    if not t in match:\n",
    "        C[t]=1\n",
    "        Q=[t]\n",
    "        while len(Q)>0:\n",
    "            i=Q[0]\n",
    "            del Q[0]\n",
    "            for j in conn[i]:\n",
    "                if j in match and not j in used:\n",
    "                    used.append(j)\n",
    "                    Q.append(match[j])\n",
    "                    C[match[j]]=1\n",
    "for i in range(n):\n",
    "    if not i in C:\n",
    "        flag=False\n",
    "        for j in C:\n",
    "            if j in conn[i]:\n",
    "                M[i]=1\n",
    "                flag=True\n",
    "                break\n",
    "        if not flag:\n",
    "            E[i]=1"
   ]
  },
  {
   "cell_type": "code",
   "execution_count": 8,
   "metadata": {
    "collapsed": false
   },
   "outputs": [
    {
     "name": "stdout",
     "output_type": "stream",
     "text": [
      "{} {5: 1} {0: 1, 1: 1, 2: 1, 3: 1, 4: 1, 6: 1, 7: 1, 8: 1, 9: 1} 10\n"
     ]
    }
   ],
   "source": [
    "print E,M,C,n"
   ]
  },
  {
   "cell_type": "markdown",
   "metadata": {},
   "source": [
    "##divide C"
   ]
  },
  {
   "cell_type": "code",
   "execution_count": 9,
   "metadata": {
    "collapsed": true
   },
   "outputs": [],
   "source": [
    "D=[]\n",
    "dd=0\n",
    "dived=[]\n",
    "for i in C:\n",
    "    if i in dived:\n",
    "        continue;\n",
    "    tset=[i]\n",
    "    bfs={i:1}\n",
    "    dived.append(i)\n",
    "    while len(bfs)>0:\n",
    "        tbfs={}\n",
    "        for i in bfs:\n",
    "            for j in C :\n",
    "                if not j in dived and j in conn[i]:\n",
    "                    tbfs[j]=1\n",
    "                    tset.append(j)\n",
    "                    dived.append(j)\n",
    "        bfs=tbfs\n",
    "    D.append(tset)\n",
    "Dm={}\n",
    "for i in range(len(D)):\n",
    "    for j in D[i]:\n",
    "        Dm[j]=i"
   ]
  },
  {
   "cell_type": "code",
   "execution_count": 10,
   "metadata": {
    "collapsed": false
   },
   "outputs": [
    {
     "name": "stdout",
     "output_type": "stream",
     "text": [
      "[[0], [1], [2], [3], [4], [6], [7], [8], [9]] {0: 0, 1: 1, 2: 2, 3: 3, 4: 4, 6: 5, 7: 6, 8: 7, 9: 8}\n"
     ]
    }
   ],
   "source": [
    "print D,Dm"
   ]
  },
  {
   "cell_type": "markdown",
   "metadata": {},
   "source": [
    "##build the graph"
   ]
  },
  {
   "cell_type": "code",
   "execution_count": null,
   "metadata": {
    "collapsed": true
   },
   "outputs": [],
   "source": [
    "graph={}\n",
    "gm={}\n",
    "gm['s']=0\n",
    "gm['t']=2*n+len(M)+1\n",
    "N=2*n+2+len(M)\n",
    "mcnt=0\n",
    "for i in range(n):\n",
    "    gm['a'+str(i)]=i+1\n",
    "    gm['b'+str(i)]=i+n+1\n",
    "    if i in M:\n",
    "        gm['c'+str(i)]=2*n+1+mcnt \n",
    "        mcnt+=1\n",
    "for i in range(N):\n",
    "    graph[i]={}\n",
    "for i in range(n):\n",
    "    graph[gm['s']][gm['a'+str(i)]]='special'\n",
    "    graph[gm['b'+str(i)]][gm['t']]=1\n",
    "    if not i in C:\n",
    "        graph[gm['a'+str(i)]][gm['b'+str(i)]]=1\n",
    "    for j in conn[i]:\n",
    "        if i in C and j in M :\n",
    "            graph[gm['a'+str(i)]][gm['c'+str(j)]]=1\n",
    "    if i in M:\n",
    "        graph[gm['c'+str(i)]][gm['t']]=1\n",
    "for i in D:\n",
    "    for j in i:\n",
    "        for tk in range(1,len(i)):\n",
    "            k=i[tk]\n",
    "            graph[gm['a'+str(j)]][gm['b'+str(k)]]=1\n"
   ]
  }
 ],
 "metadata": {
  "kernelspec": {
   "display_name": "Python 2",
   "language": "python",
   "name": "python2"
  },
  "language_info": {
   "codemirror_mode": {
    "name": "ipython",
    "version": 2
   },
   "file_extension": ".py",
   "mimetype": "text/x-python",
   "name": "python",
   "nbconvert_exporter": "python",
   "pygments_lexer": "ipython2",
   "version": "2.7.9"
  }
 },
 "nbformat": 4,
 "nbformat_minor": 0
}
