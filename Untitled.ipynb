{
 "cells": [
  {
   "cell_type": "markdown",
   "metadata": {},
   "source": [
    "#code for the original water-filling algorithm"
   ]
  },
  {
   "cell_type": "markdown",
   "metadata": {},
   "source": [
    "##read data"
   ]
  },
  {
   "cell_type": "code",
   "execution_count": 1,
   "metadata": {
    "collapsed": false
   },
   "outputs": [],
   "source": [
    "import time\n",
    "f=file('data.txt','r')\n",
    "f3=file('res_fast.txt','a')\n",
    "time1=time.time()\n",
    "n,m=f.readline().split()\n",
    "n=int(n)\n",
    "m=int(m)\n",
    "a=[]\n",
    "g={}\n",
    "conn=[]\n",
    "for i in range(n):\n",
    "    conn.append([])\n",
    "for i in range(m):\n",
    "    x,y=f.readline().split()\n",
    "    a.append((int(x),int(y)))\n",
    "    conn[int(x)].append(int(y))\n",
    "    conn[int(y)].append(int(x))\n",
    "    g[x,y]=1\n",
    "f.close()"
   ]
  },
  {
   "cell_type": "markdown",
   "metadata": {},
   "source": [
    "##get max matching"
   ]
  },
  {
   "cell_type": "code",
   "execution_count": 2,
   "metadata": {
    "collapsed": false
   },
   "outputs": [],
   "source": [
    "import os\n",
    "os.system(\"./code2run\")\n",
    "f2=file(\"divide.txt\",'r')\n",
    "T=int(f2.readline())\n",
    "match={}\n",
    "for i in range(T/2):\n",
    "    x,y=f2.readline().split()\n",
    "    match[int(x)]=int(y)\n",
    "    match[int(y)]=int(x)\n",
    "f2.close()"
   ]
  },
  {
   "cell_type": "markdown",
   "metadata": {},
   "source": [
    "##divide into E,M,C"
   ]
  },
  {
   "cell_type": "code",
   "execution_count": 6,
   "metadata": {
    "collapsed": false
   },
   "outputs": [
    {
     "name": "stdout",
     "output_type": "stream",
     "text": [
      "0\n",
      "5\n",
      "2\n",
      "4\n"
     ]
    }
   ],
   "source": [
    "E={}\n",
    "M={}\n",
    "C={}\n",
    "used=[]\n",
    "for t in range(n):\n",
    "    if not t in match:\n",
    "        C[t]=1\n",
    "        Q=[t]\n",
    "        while len(Q)>0:\n",
    "            i=Q[0]\n",
    "            print i\n",
    "            del Q[0]\n",
    "            for j in conn[i]:\n",
    "                if j in match and not j in used:\n",
    "                    used.append(j)\n",
    "                    if match[j] in used:\n",
    "                        continue\n",
    "                    used.append(match[j])\n",
    "                    Q.append(match[j])\n",
    "                    C[match[j]]=1\n",
    "for i in range(n):\n",
    "    if not i in C:\n",
    "        flag=False\n",
    "        for j in C:\n",
    "            if j in conn[i]:\n",
    "                M[i]=1\n",
    "                flag=True\n",
    "                break\n",
    "        if not flag:\n",
    "            E[i]=1"
   ]
  },
  {
   "cell_type": "code",
   "execution_count": 9,
   "metadata": {
    "collapsed": false
   },
   "outputs": [],
   "source": [
    "E={}\n",
    "M={}\n",
    "C={}\n",
    "used=[]\n",
    "def divdfs(st,hist):\n",
    "    global M,C\n",
    "    if st in hist or st in C:\n",
    "        return\n",
    "    if st in M:\n",
    "        del M[st]\n",
    "    C[st]=1\n",
    "    for i in conn[st]:\n",
    "        if i not in match:\n",
    "            continue\n",
    "        if match[i]==st:\n",
    "            continue\n",
    "        if match[i] in C:\n",
    "            continue\n",
    "        if i not in C:\n",
    "            M[i]=1\n",
    "        divdfs(match[i],hist+[st,i])\n",
    "    pass\n",
    "for i in range(n):\n",
    "    if i not in match:\n",
    "        divdfs(i,[])\n",
    "for i in range(n):\n",
    "    if i not in C.keys()+M.keys():\n",
    "        E[i]=1"
   ]
  },
  {
   "cell_type": "code",
   "execution_count": 10,
   "metadata": {
    "collapsed": false
   },
   "outputs": [
    {
     "name": "stdout",
     "output_type": "stream",
     "text": [
      "{} {1: 1} {0: 1, 2: 1, 3: 1, 4: 1, 5: 1} 6\n"
     ]
    }
   ],
   "source": [
    "print E,M,C,n"
   ]
  },
  {
   "cell_type": "markdown",
   "metadata": {},
   "source": [
    "##divide C"
   ]
  },
  {
   "cell_type": "code",
   "execution_count": 5,
   "metadata": {
    "collapsed": true
   },
   "outputs": [],
   "source": [
    "D=[]\n",
    "dd=0\n",
    "dived=[]\n",
    "for i in C:\n",
    "    if i in dived:\n",
    "        continue;\n",
    "    tset=[i]\n",
    "    bfs={i:1}\n",
    "    dived.append(i)\n",
    "    while len(bfs)>0:\n",
    "        tbfs={}\n",
    "        for i in bfs:\n",
    "            for j in C :\n",
    "                if not j in dived and j in conn[i]:\n",
    "                    tbfs[j]=1\n",
    "                    tset.append(j)\n",
    "                    dived.append(j)\n",
    "        bfs=tbfs\n",
    "    D.append(tset)\n",
    "Dm={}\n",
    "for i in range(len(D)):\n",
    "    for j in D[i]:\n",
    "        Dm[j]=i"
   ]
  },
  {
   "cell_type": "code",
   "execution_count": 6,
   "metadata": {
    "collapsed": false
   },
   "outputs": [
    {
     "name": "stdout",
     "output_type": "stream",
     "text": [
      "[[0], [1], [3], [4], [5], [6], [12], [13], [14], [15], [17], [18], [19], [21], [22], [23], [25], [27], [28], [29], [30], [32], [33], [35], [36], [38], [39]] {0: 0, 1: 1, 3: 2, 4: 3, 5: 4, 6: 5, 12: 6, 13: 7, 14: 8, 15: 9, 17: 10, 18: 11, 19: 12, 21: 13, 22: 14, 23: 15, 25: 16, 27: 17, 28: 18, 29: 19, 30: 20, 32: 21, 33: 22, 35: 23, 36: 24, 38: 25, 39: 26}\n"
     ]
    }
   ],
   "source": [
    "print D,Dm"
   ]
  },
  {
   "cell_type": "markdown",
   "metadata": {},
   "source": [
    "##build the graph"
   ]
  },
  {
   "cell_type": "code",
   "execution_count": 7,
   "metadata": {
    "collapsed": true
   },
   "outputs": [],
   "source": [
    "graph={}\n",
    "gm={}\n",
    "gm['s']=0\n",
    "gm['t']=2*n+len(M)+1\n",
    "N=2*n+2+len(M)\n",
    "mcnt=0\n",
    "for i in range(n):\n",
    "    gm['a'+str(i)]=i+1\n",
    "    gm['b'+str(i)]=i+n+1\n",
    "    if i in M:\n",
    "        gm['c'+str(i)]=2*n+1+mcnt \n",
    "        mcnt+=1\n",
    "for i in range(N):\n",
    "    graph[i]={}\n",
    "for i in range(n):\n",
    "    graph[gm['s']][gm['a'+str(i)]]='special'\n",
    "    graph[gm['b'+str(i)]][gm['t']]=1\n",
    "    if not i in C:\n",
    "        graph[gm['a'+str(i)]][gm['b'+str(i)]]=1\n",
    "    for j in conn[i]:\n",
    "        if i in C and j in M :\n",
    "            graph[gm['a'+str(i)]][gm['c'+str(j)]]=1\n",
    "    if i in M:\n",
    "        graph[gm['c'+str(i)]][gm['t']]=1\n",
    "for i in D:\n",
    "    for j in i:\n",
    "        for tk in range(1,len(i)):\n",
    "            k=i[tk]\n",
    "            graph[gm['a'+str(j)]][gm['b'+str(k)]]=1\n"
   ]
  },
  {
   "cell_type": "code",
   "execution_count": 8,
   "metadata": {
    "collapsed": true
   },
   "outputs": [],
   "source": [
    "def preflow(a,c,f,st,en,lbd):#a is node set\n",
    "    backup=[]\n",
    "    for i in a:\n",
    "        backup.append((i,c[i].copy(),f[i].copy()))\n",
    "    n=len(a)\n",
    "    d={}\n",
    "    for i in c[st]:\n",
    "        c[st][i]=c[i][st]=f[i][st]=(c[st][i]*lbd).real\n",
    "    for i in a:\n",
    "        d[i]=0\n",
    "    d[st]=n\n",
    "    active=[st]\n",
    "    e={}\n",
    "    for i in a:\n",
    "        e[i]=0\n",
    "    while len(active)>0:\n",
    "        x=active[0]\n",
    "        if e[x]<1e-8 and x!=0:\n",
    "            del active[0]\n",
    "            continue\n",
    "        finish=False\n",
    "        for i in c[x]:\n",
    "            if f[x][i]<c[x][i] and d[x]>d[i]:\n",
    "                enow=e[x]\n",
    "                if x==st:\n",
    "                    enow=1e10\n",
    "                ff=min(enow,c[x][i]-f[x][i])\n",
    "                e[x]-=ff\n",
    "                e[i]+=ff\n",
    "                f[x][i]+=ff\n",
    "                f[i][x]-=ff\n",
    "                if e[i]>1e-8 and not i in active and i!=st and i!=en:\n",
    "                    active.append(i)\n",
    "                if ff==0:\n",
    "                    del active[0]\n",
    "                    finish=True\n",
    "                    break\n",
    "        if finish:\n",
    "            continue\n",
    "        if x!=st:\n",
    "            mind=1e10\n",
    "            for i in c[x]:\n",
    "                if f[x][i]<c[x][i] and d[i]<mind:\n",
    "                    mind=d[i]\n",
    "            d[x]=mind+1\n",
    "        if len(active)>0 and active[0]==st:\n",
    "            del active[0]\n",
    "    q=[st]\n",
    "    used={}\n",
    "    while len(q)>0:\n",
    "        x=q[0]\n",
    "        for i in c[x]:\n",
    "            if not i in a:\n",
    "                continue\n",
    "            if not i in used and f[x][i]<c[x][i]-1e-8:\n",
    "                d[i]=d[x]+1\n",
    "                used[i]=1\n",
    "                q.append(i)\n",
    "        del q[0]\n",
    "    q=[en]\n",
    "    used={}\n",
    "    while len(q)>0:\n",
    "        x=q[0]\n",
    "        for i in a:\n",
    "            if i in f[x] and not i in used and f[i][x]<c[i][x]-1e-8:\n",
    "                d[i]=d[x]+1\n",
    "                used[i]=1\n",
    "                q.append(i)\n",
    "        del q[0]\n",
    "    t1=[i for i in d if d[i]>=n]\n",
    "    t2=[i for i in d if d[i]<n]\n",
    "    t3=[i for i in a if not i in d]\n",
    "    global ans,dm,D\n",
    "    for i in t3:\n",
    "        if i in dm:\n",
    "            for j in D[dm[i]]:\n",
    "                ans[j]=-1*lbd.imag\n",
    "    for i in backup:\n",
    "        x,y,z=i\n",
    "        c[x]=y\n",
    "        f[x]=z\n",
    "    print a,e[en],lbd,d\n",
    "    return e[en],t1,t2,t3"
   ]
  },
  {
   "cell_type": "code",
   "execution_count": null,
   "metadata": {
    "collapsed": true
   },
   "outputs": [],
   "source": []
  }
 ],
 "metadata": {
  "kernelspec": {
   "display_name": "Python 2",
   "language": "python",
   "name": "python2"
  },
  "language_info": {
   "codemirror_mode": {
    "name": "ipython",
    "version": 2
   },
   "file_extension": ".py",
   "mimetype": "text/x-python",
   "name": "python",
   "nbconvert_exporter": "python",
   "pygments_lexer": "ipython2",
   "version": "2.7.9"
  }
 },
 "nbformat": 4,
 "nbformat_minor": 0
}
